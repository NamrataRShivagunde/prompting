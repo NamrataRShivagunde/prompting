{
 "cells": [
  {
   "cell_type": "markdown",
   "metadata": {},
   "source": [
    "# Basic usage of modified transformers library (modification have been done only for BERT)"
   ]
  },
  {
   "cell_type": "markdown",
   "metadata": {},
   "source": [
    "## Install the changed library (only first once)"
   ]
  },
  {
   "cell_type": "markdown",
   "metadata": {},
   "source": [
    "cd transformers1. move into the modified library\n",
    "> $ cd transformers\n",
    "\n",
    "1. install using pip (I recommend editable mode (-e option).)\n",
    "> $ pip install -e .\n",
    "\n",
    "1. please install pytorch (https://pytorch.org/) \\\n",
    " e.g., \n",
    " > $ pip install torch torchvision"
   ]
  },
  {
   "cell_type": "code",
   "execution_count": 14,
   "metadata": {},
   "outputs": [
    {
     "name": "stdout",
     "output_type": "stream",
     "text": [
      "/home/nammu/code/norm-analysis-of-transformer/emnlp2020/transformers\n"
     ]
    }
   ],
   "source": [
    "cd transformers"
   ]
  },
  {
   "cell_type": "code",
   "execution_count": 15,
   "metadata": {},
   "outputs": [
    {
     "name": "stdout",
     "output_type": "stream",
     "text": [
      "Obtaining file:///home/nammu/code/norm-analysis-of-transformer/emnlp2020/transformers\n",
      "  Installing build dependencies ... \u001b[?25ldone\n",
      "\u001b[?25h  Checking if build backend supports build_editable ... \u001b[?25ldone\n",
      "\u001b[?25h  Getting requirements to build editable ... \u001b[?25ldone\n",
      "\u001b[?25h  Preparing editable metadata (pyproject.toml) ... \u001b[?25ldone\n",
      "\u001b[?25hRequirement already satisfied: packaging>=20.0 in /home/nammu/code/norm-analysis-of-transformer/emnlp2020/venv-norm/lib/python3.8/site-packages (from transformers==4.24.0.dev0) (21.3)\n",
      "Requirement already satisfied: requests in /home/nammu/code/norm-analysis-of-transformer/emnlp2020/venv-norm/lib/python3.8/site-packages (from transformers==4.24.0.dev0) (2.28.1)\n",
      "Requirement already satisfied: numpy>=1.17 in /home/nammu/code/norm-analysis-of-transformer/emnlp2020/venv-norm/lib/python3.8/site-packages (from transformers==4.24.0.dev0) (1.23.4)\n",
      "Requirement already satisfied: pyyaml>=5.1 in /home/nammu/code/norm-analysis-of-transformer/emnlp2020/venv-norm/lib/python3.8/site-packages (from transformers==4.24.0.dev0) (6.0)\n",
      "Requirement already satisfied: regex!=2019.12.17 in /home/nammu/code/norm-analysis-of-transformer/emnlp2020/venv-norm/lib/python3.8/site-packages (from transformers==4.24.0.dev0) (2022.10.31)\n",
      "Requirement already satisfied: filelock in /home/nammu/code/norm-analysis-of-transformer/emnlp2020/venv-norm/lib/python3.8/site-packages (from transformers==4.24.0.dev0) (3.8.0)\n",
      "Requirement already satisfied: tokenizers!=0.11.3,<0.14,>=0.11.1 in /home/nammu/code/norm-analysis-of-transformer/emnlp2020/venv-norm/lib/python3.8/site-packages (from transformers==4.24.0.dev0) (0.13.1)\n",
      "Requirement already satisfied: tqdm>=4.27 in /home/nammu/code/norm-analysis-of-transformer/emnlp2020/venv-norm/lib/python3.8/site-packages (from transformers==4.24.0.dev0) (4.64.1)\n",
      "Requirement already satisfied: huggingface-hub<1.0,>=0.10.0 in /home/nammu/code/norm-analysis-of-transformer/emnlp2020/venv-norm/lib/python3.8/site-packages (from transformers==4.24.0.dev0) (0.10.1)\n",
      "Requirement already satisfied: typing-extensions>=3.7.4.3 in /home/nammu/code/norm-analysis-of-transformer/emnlp2020/venv-norm/lib/python3.8/site-packages (from huggingface-hub<1.0,>=0.10.0->transformers==4.24.0.dev0) (4.4.0)\n",
      "Requirement already satisfied: pyparsing!=3.0.5,>=2.0.2 in /home/nammu/code/norm-analysis-of-transformer/emnlp2020/venv-norm/lib/python3.8/site-packages (from packaging>=20.0->transformers==4.24.0.dev0) (3.0.9)\n",
      "Requirement already satisfied: urllib3<1.27,>=1.21.1 in /home/nammu/code/norm-analysis-of-transformer/emnlp2020/venv-norm/lib/python3.8/site-packages (from requests->transformers==4.24.0.dev0) (1.26.12)\n",
      "Requirement already satisfied: charset-normalizer<3,>=2 in /home/nammu/code/norm-analysis-of-transformer/emnlp2020/venv-norm/lib/python3.8/site-packages (from requests->transformers==4.24.0.dev0) (2.1.1)\n",
      "Requirement already satisfied: certifi>=2017.4.17 in /home/nammu/code/norm-analysis-of-transformer/emnlp2020/venv-norm/lib/python3.8/site-packages (from requests->transformers==4.24.0.dev0) (2022.9.24)\n",
      "Requirement already satisfied: idna<4,>=2.5 in /home/nammu/code/norm-analysis-of-transformer/emnlp2020/venv-norm/lib/python3.8/site-packages (from requests->transformers==4.24.0.dev0) (3.4)\n",
      "Building wheels for collected packages: transformers\n",
      "  Building editable for transformers (pyproject.toml) ... \u001b[?25ldone\n",
      "\u001b[?25h  Created wheel for transformers: filename=transformers-4.24.0.dev0-0.editable-py3-none-any.whl size=30586 sha256=69fbc57dd48d222936dedb427fb151e87d89f31944e62ca9d119a22ae8fe9818\n",
      "  Stored in directory: /tmp/pip-ephem-wheel-cache-yv1j_u6l/wheels/5f/f6/2d/85a3e593dec6a2d68624d610aa24f9108451b63f3d577827aa\n",
      "Successfully built transformers\n",
      "Installing collected packages: transformers\n",
      "  Attempting uninstall: transformers\n",
      "    Found existing installation: transformers 4.24.0.dev0\n",
      "    Uninstalling transformers-4.24.0.dev0:\n",
      "      Successfully uninstalled transformers-4.24.0.dev0\n",
      "Successfully installed transformers-4.24.0.dev0\n",
      "Note: you may need to restart the kernel to use updated packages.\n"
     ]
    }
   ],
   "source": [
    "pip install -e ."
   ]
  },
  {
   "cell_type": "code",
   "execution_count": 8,
   "metadata": {},
   "outputs": [
    {
     "name": "stdout",
     "output_type": "stream",
     "text": [
      "Requirement already satisfied: torch in /home/nammu/code/norm-analysis-of-transformer/emnlp2020/venv-norm/lib/python3.8/site-packages (1.13.0)\n",
      "Requirement already satisfied: torchvision in /home/nammu/code/norm-analysis-of-transformer/emnlp2020/venv-norm/lib/python3.8/site-packages (0.14.0)\n",
      "Requirement already satisfied: typing-extensions in /home/nammu/code/norm-analysis-of-transformer/emnlp2020/venv-norm/lib/python3.8/site-packages (from torch) (4.4.0)\n",
      "Requirement already satisfied: nvidia-cuda-nvrtc-cu11==11.7.99 in /home/nammu/code/norm-analysis-of-transformer/emnlp2020/venv-norm/lib/python3.8/site-packages (from torch) (11.7.99)\n",
      "Requirement already satisfied: nvidia-cudnn-cu11==8.5.0.96 in /home/nammu/code/norm-analysis-of-transformer/emnlp2020/venv-norm/lib/python3.8/site-packages (from torch) (8.5.0.96)\n",
      "Requirement already satisfied: nvidia-cublas-cu11==11.10.3.66 in /home/nammu/code/norm-analysis-of-transformer/emnlp2020/venv-norm/lib/python3.8/site-packages (from torch) (11.10.3.66)\n",
      "Requirement already satisfied: nvidia-cuda-runtime-cu11==11.7.99 in /home/nammu/code/norm-analysis-of-transformer/emnlp2020/venv-norm/lib/python3.8/site-packages (from torch) (11.7.99)\n",
      "Requirement already satisfied: wheel in /home/nammu/code/norm-analysis-of-transformer/emnlp2020/venv-norm/lib/python3.8/site-packages (from nvidia-cublas-cu11==11.10.3.66->torch) (0.37.1)\n",
      "Requirement already satisfied: setuptools in /home/nammu/code/norm-analysis-of-transformer/emnlp2020/venv-norm/lib/python3.8/site-packages (from nvidia-cublas-cu11==11.10.3.66->torch) (44.0.0)\n",
      "Requirement already satisfied: requests in /home/nammu/code/norm-analysis-of-transformer/emnlp2020/venv-norm/lib/python3.8/site-packages (from torchvision) (2.28.1)\n",
      "Requirement already satisfied: pillow!=8.3.*,>=5.3.0 in /home/nammu/code/norm-analysis-of-transformer/emnlp2020/venv-norm/lib/python3.8/site-packages (from torchvision) (9.3.0)\n",
      "Requirement already satisfied: numpy in /home/nammu/code/norm-analysis-of-transformer/emnlp2020/venv-norm/lib/python3.8/site-packages (from torchvision) (1.23.4)\n",
      "Requirement already satisfied: certifi>=2017.4.17 in /home/nammu/code/norm-analysis-of-transformer/emnlp2020/venv-norm/lib/python3.8/site-packages (from requests->torchvision) (2022.9.24)\n",
      "Requirement already satisfied: idna<4,>=2.5 in /home/nammu/code/norm-analysis-of-transformer/emnlp2020/venv-norm/lib/python3.8/site-packages (from requests->torchvision) (3.4)\n",
      "Requirement already satisfied: charset-normalizer<3,>=2 in /home/nammu/code/norm-analysis-of-transformer/emnlp2020/venv-norm/lib/python3.8/site-packages (from requests->torchvision) (2.1.1)\n",
      "Requirement already satisfied: urllib3<1.27,>=1.21.1 in /home/nammu/code/norm-analysis-of-transformer/emnlp2020/venv-norm/lib/python3.8/site-packages (from requests->torchvision) (1.26.12)\n",
      "Note: you may need to restart the kernel to use updated packages.\n"
     ]
    }
   ],
   "source": [
    "pip install torch torchvision"
   ]
  },
  {
   "cell_type": "markdown",
   "metadata": {},
   "source": [
    "## Usage"
   ]
  },
  {
   "cell_type": "code",
   "execution_count": 1,
   "metadata": {},
   "outputs": [
    {
     "name": "stderr",
     "output_type": "stream",
     "text": [
      "/home/nammu/code/norm-analysis-of-transformer/emnlp2020/venv-norm/lib/python3.8/site-packages/tqdm/auto.py:22: TqdmWarning: IProgress not found. Please update jupyter and ipywidgets. See https://ipywidgets.readthedocs.io/en/stable/user_install.html\n",
      "  from .autonotebook import tqdm as notebook_tqdm\n"
     ]
    }
   ],
   "source": [
    "import torch\n",
    "import transformers\n",
    "from transformers import BertModel, BertTokenizer, GPT2Tokenizer, OPTForCausalLM, OPTModel\n",
    "\n",
    "device = \"cuda\" if torch.cuda.is_available() else \"cpu\""
   ]
  },
  {
   "cell_type": "code",
   "execution_count": 2,
   "metadata": {},
   "outputs": [
    {
     "name": "stdout",
     "output_type": "stream",
     "text": [
      "Requirement already satisfied: IProgress in ./venv-norm/lib/python3.8/site-packages (0.4)\n",
      "Requirement already satisfied: six in ./venv-norm/lib/python3.8/site-packages (from IProgress) (1.16.0)\n"
     ]
    }
   ],
   "source": [
    "!pip install IProgress"
   ]
  },
  {
   "cell_type": "code",
   "execution_count": 2,
   "metadata": {},
   "outputs": [
    {
     "name": "stderr",
     "output_type": "stream",
     "text": [
      "Some weights of the model checkpoint at bert-base-uncased were not used when initializing BertModel: ['cls.predictions.decoder.weight', 'cls.seq_relationship.weight', 'cls.seq_relationship.bias', 'cls.predictions.transform.dense.weight', 'cls.predictions.transform.LayerNorm.weight', 'cls.predictions.bias', 'cls.predictions.transform.LayerNorm.bias', 'cls.predictions.transform.dense.bias']\n",
      "- This IS expected if you are initializing BertModel from the checkpoint of a model trained on another task or with another architecture (e.g. initializing a BertForSequenceClassification model from a BertForPreTraining model).\n",
      "- This IS NOT expected if you are initializing BertModel from the checkpoint of a model that you expect to be exactly identical (initializing a BertForSequenceClassification model from a BertForSequenceClassification model).\n"
     ]
    },
    {
     "name": "stdout",
     "output_type": "stream",
     "text": [
      "tensor([[  101,  2182,  2003,  2070,  3793,  2000,  4372, 16044,   102]])\n",
      "['[CLS]', 'here', 'is', 'some', 'text', 'to', 'en', '##code', '[SEP]']\n"
     ]
    }
   ],
   "source": [
    "# Load pretrained model/tokenizer\n",
    "tokenizer = BertTokenizer.from_pretrained(\"bert-base-uncased\")\n",
    "model = BertModel.from_pretrained(\"bert-base-uncased\").to(device)\n",
    "\n",
    "model.eval()\n",
    "\n",
    "# Tokenize text and convert to ids.\n",
    "input_ids = torch.tensor([tokenizer.encode(\"Here is some text to encode\", add_special_tokens=True)]).to(device)\n",
    "print(input_ids)\n",
    "tokenized_text = tokenizer.convert_ids_to_tokens(input_ids[0])\n",
    "print(tokenized_text)"
   ]
  },
  {
   "cell_type": "code",
   "execution_count": 3,
   "metadata": {},
   "outputs": [],
   "source": [
    "# If you want to extract vector norms (i.e., ||f(x)||, ||αf(x)||, ||Σαf(x)||), please set the argument \"output_norms\" to True.\n",
    "with torch.no_grad():\n",
    "    output = model(input_ids=input_ids, output_hidden_states=True, output_attentions=True, output_norms=True)"
   ]
  },
  {
   "cell_type": "code",
   "execution_count": 4,
   "metadata": {},
   "outputs": [
    {
     "data": {
      "text/plain": [
       "5"
      ]
     },
     "execution_count": 4,
     "metadata": {},
     "output_type": "execute_result"
    }
   ],
   "source": [
    "len(output) #last_hidden_states, pooler_output, attentions, norm_attentions"
   ]
  },
  {
   "cell_type": "code",
   "execution_count": 5,
   "metadata": {},
   "outputs": [
    {
     "name": "stdout",
     "output_type": "stream",
     "text": [
      "12\n"
     ]
    }
   ],
   "source": [
    "attentions = output.attentions\n",
    "print(len(attentions))"
   ]
  },
  {
   "cell_type": "code",
   "execution_count": 6,
   "metadata": {},
   "outputs": [
    {
     "data": {
      "text/plain": [
       "12"
      ]
     },
     "execution_count": 6,
     "metadata": {},
     "output_type": "execute_result"
    }
   ],
   "source": [
    "len(output.norm_attentions)"
   ]
  },
  {
   "cell_type": "code",
   "execution_count": 7,
   "metadata": {},
   "outputs": [],
   "source": [
    "norms = output.norm_attentions"
   ]
  },
  {
   "cell_type": "code",
   "execution_count": 8,
   "metadata": {},
   "outputs": [
    {
     "name": "stdout",
     "output_type": "stream",
     "text": [
      "<class 'tuple'>\n",
      "12\n"
     ]
    }
   ],
   "source": [
    "# Returned variable \"norms\" is a tuple which has 12 elements (equal to the number of layers).\n",
    "print(type(norms))\n",
    "print(len(norms))"
   ]
  },
  {
   "cell_type": "code",
   "execution_count": 9,
   "metadata": {},
   "outputs": [
    {
     "name": "stdout",
     "output_type": "stream",
     "text": [
      "<class 'tuple'>\n",
      "3\n"
     ]
    }
   ],
   "source": [
    "# Each element is a tuple which consists of 3 elements: ||f(x)||, ||αf(x)||, and ||Σαf(x)||.\n",
    "layer = 5\n",
    "print(type(norms[layer-1]))\n",
    "print(len(norms[layer-1]))\n",
    "\n",
    "fx_norm, afx_norm, summed_afx_norm = norms[layer-1]"
   ]
  },
  {
   "cell_type": "code",
   "execution_count": 10,
   "metadata": {},
   "outputs": [
    {
     "name": "stdout",
     "output_type": "stream",
     "text": [
      "shape of ||f(x)||: torch.Size([1, 12, 9])\n"
     ]
    }
   ],
   "source": [
    "# shape of fx_norm (||f(x)||) is (batch, num_heads, seq_length)\n",
    "print(\"shape of ||f(x)||:\", fx_norm.size())"
   ]
  },
  {
   "cell_type": "code",
   "execution_count": 11,
   "metadata": {},
   "outputs": [
    {
     "name": "stdout",
     "output_type": "stream",
     "text": [
      "shape of ||αf(x)||: torch.Size([1, 12, 9, 9])\n"
     ]
    }
   ],
   "source": [
    "# shape of afx_norm (||αf(x)||) is (batch, num_heads, seq_length, seq_length)\n",
    "print(\"shape of ||αf(x)||:\", afx_norm.size())"
   ]
  },
  {
   "cell_type": "code",
   "execution_count": 12,
   "metadata": {},
   "outputs": [
    {
     "name": "stdout",
     "output_type": "stream",
     "text": [
      "shape of ||Σαf(x)||: torch.Size([1, 9, 9])\n"
     ]
    }
   ],
   "source": [
    "# shape of summed_afx_norm (||Σαf(x)||) is (batch, seq_length, seq_length)\n",
    "print(\"shape of ||Σαf(x)||:\", summed_afx_norm.size())"
   ]
  },
  {
   "cell_type": "markdown",
   "metadata": {},
   "source": [
    "## Comparison with attention weight"
   ]
  },
  {
   "cell_type": "code",
   "execution_count": 13,
   "metadata": {},
   "outputs": [],
   "source": [
    "import seaborn as sns\n",
    "import pandas as pd\n",
    "import numpy as np\n",
    "import matplotlib.pyplot as plt\n",
    "\n",
    "# Set the layer and head you want to check. (layer: 1~12, head: 1~12)\n",
    "layer = 7\n",
    "head = 5"
   ]
  },
  {
   "cell_type": "markdown",
   "metadata": {},
   "source": [
    "### 1a Attention weight visualization (Head-level visualization)"
   ]
  },
  {
   "cell_type": "code",
   "execution_count": 26,
   "metadata": {},
   "outputs": [
    {
     "ename": "RuntimeError",
     "evalue": "Can't call numpy() on Tensor that requires grad. Use tensor.detach().numpy() instead.",
     "output_type": "error",
     "traceback": [
      "\u001b[0;31m---------------------------------------------------------------------------\u001b[0m",
      "\u001b[0;31mRuntimeError\u001b[0m                              Traceback (most recent call last)",
      "Cell \u001b[0;32mIn [26], line 2\u001b[0m\n\u001b[1;32m      1\u001b[0m plt\u001b[38;5;241m.\u001b[39mfigure() \n\u001b[0;32m----> 2\u001b[0m attention \u001b[38;5;241m=\u001b[39m \u001b[43mattentions\u001b[49m\u001b[43m[\u001b[49m\u001b[43mlayer\u001b[49m\u001b[38;5;241;43m-\u001b[39;49m\u001b[38;5;241;43m1\u001b[39;49m\u001b[43m]\u001b[49m\u001b[43m[\u001b[49m\u001b[38;5;241;43m0\u001b[39;49m\u001b[43m]\u001b[49m\u001b[43m[\u001b[49m\u001b[43mhead\u001b[49m\u001b[38;5;241;43m-\u001b[39;49m\u001b[38;5;241;43m1\u001b[39;49m\u001b[43m]\u001b[49m\u001b[38;5;241;43m.\u001b[39;49m\u001b[43mcpu\u001b[49m\u001b[43m(\u001b[49m\u001b[43m)\u001b[49m\u001b[38;5;241;43m.\u001b[39;49m\u001b[43mnumpy\u001b[49m\u001b[43m(\u001b[49m\u001b[43m)\u001b[49m\n\u001b[1;32m      3\u001b[0m df \u001b[38;5;241m=\u001b[39m pd\u001b[38;5;241m.\u001b[39mDataFrame(attention,columns\u001b[38;5;241m=\u001b[39mtokenized_text,index\u001b[38;5;241m=\u001b[39mtokenized_text)\n\u001b[1;32m      4\u001b[0m sns\u001b[38;5;241m.\u001b[39mheatmap(df,cmap\u001b[38;5;241m=\u001b[39m\u001b[38;5;124m\"\u001b[39m\u001b[38;5;124mReds\u001b[39m\u001b[38;5;124m\"\u001b[39m,square\u001b[38;5;241m=\u001b[39m\u001b[38;5;28;01mTrue\u001b[39;00m)\n",
      "\u001b[0;31mRuntimeError\u001b[0m: Can't call numpy() on Tensor that requires grad. Use tensor.detach().numpy() instead."
     ]
    },
    {
     "data": {
      "text/plain": [
       "<Figure size 640x480 with 0 Axes>"
      ]
     },
     "metadata": {},
     "output_type": "display_data"
    }
   ],
   "source": [
    "plt.figure() \n",
    "attention = attentions[layer-1][0][head-1].cpu().numpy()\n",
    "df = pd.DataFrame(attention,columns=tokenized_text,index=tokenized_text)\n",
    "sns.heatmap(df,cmap=\"Reds\",square=True)\n",
    "plt.gcf().subplots_adjust(bottom=0.2)"
   ]
  },
  {
   "cell_type": "markdown",
   "metadata": {},
   "source": [
    "### 1b Norm of the weighted vectors (||αf(x)||) visualization (Head-level visualization)"
   ]
  },
  {
   "cell_type": "code",
   "execution_count": 15,
   "metadata": {},
   "outputs": [
    {
     "data": {
      "image/png": "[encoded data removed]",
      "text/plain": [
       "<Figure size 640x480 with 2 Axes>"
      ]
     },
     "metadata": {},
     "output_type": "display_data"
    }
   ],
   "source": [
    "plt.figure() \n",
    "afx_norm = norms[layer-1][1]\n",
    "norm = afx_norm[0][head-1].cpu().numpy()\n",
    "df = pd.DataFrame(norm,columns=tokenized_text,index=tokenized_text)\n",
    "sns.heatmap(df,cmap=\"Reds\",square=True)\n",
    "plt.gcf().subplots_adjust(bottom=0.2)"
   ]
  },
  {
   "cell_type": "markdown",
   "metadata": {},
   "source": [
    "### 2a Attention weight visualization (Layer-level visualization)"
   ]
  },
  {
   "cell_type": "code",
   "execution_count": 16,
   "metadata": {},
   "outputs": [
    {
     "data": {
      "image/png": "[encoded data removed]",
      "text/plain": [
       "<Figure size 640x480 with 2 Axes>"
      ]
     },
     "metadata": {},
     "output_type": "display_data"
    }
   ],
   "source": [
    "plt.figure() \n",
    "attention = attentions[layer-1][0].mean(0).cpu().numpy()\n",
    "df = pd.DataFrame(attention,columns=tokenized_text,index=tokenized_text)\n",
    "sns.heatmap(df,cmap=\"Reds\",square=True)\n",
    "plt.gcf().subplots_adjust(bottom=0.2)"
   ]
  },
  {
   "cell_type": "markdown",
   "metadata": {},
   "source": [
    "### Norm of the summed weighted vectors (||Σ αf(x)||) visualization (Layer-level visualization)"
   ]
  },
  {
   "cell_type": "code",
   "execution_count": 17,
   "metadata": {},
   "outputs": [
    {
     "data": {
      "image/png": "[encoded data removed]",
      "text/plain": [
       "<Figure size 640x480 with 2 Axes>"
      ]
     },
     "metadata": {},
     "output_type": "display_data"
    }
   ],
   "source": [
    "plt.figure() \n",
    "summed_afx_norm = norms[layer-1][2]\n",
    "norm = summed_afx_norm[0].cpu().numpy()\n",
    "df = pd.DataFrame(norm,columns=tokenized_text,index=tokenized_text)\n",
    "sns.heatmap(df,cmap=\"Reds\",square=True)\n",
    "plt.gcf().subplots_adjust(bottom=0.2)"
   ]
  },
  {
   "cell_type": "code",
   "execution_count": 18,
   "metadata": {},
   "outputs": [],
   "source": [
    "# for OPT"
   ]
  },
  {
   "cell_type": "code",
   "execution_count": 1,
   "metadata": {},
   "outputs": [
    {
     "name": "stderr",
     "output_type": "stream",
     "text": [
      "/home/nammu/code/norm-analysis-of-transformer/emnlp2020/venv-norm/lib/python3.8/site-packages/tqdm/auto.py:22: TqdmWarning: IProgress not found. Please update jupyter and ipywidgets. See https://ipywidgets.readthedocs.io/en/stable/user_install.html\n",
      "  from .autonotebook import tqdm as notebook_tqdm\n"
     ]
    }
   ],
   "source": [
    "import torch\n",
    "import transformers\n",
    "from transformers import GPT2Tokenizer, OPTForCausalLM, OPTModel\n",
    "\n",
    "device = \"cuda\" if torch.cuda.is_available() else \"cpu\""
   ]
  },
  {
   "cell_type": "code",
   "execution_count": 2,
   "metadata": {},
   "outputs": [
    {
     "data": {
      "text/plain": [
       "OPTForCausalLM(\n",
       "  (model): OPTModel(\n",
       "    (decoder): OPTDecoder(\n",
       "      (embed_tokens): Embedding(50272, 768, padding_idx=1)\n",
       "      (embed_positions): OPTLearnedPositionalEmbedding(2050, 768)\n",
       "      (final_layer_norm): LayerNorm((768,), eps=1e-05, elementwise_affine=True)\n",
       "      (layers): ModuleList(\n",
       "        (0): OPTDecoderLayer(\n",
       "          (self_attn): OPTAttention(\n",
       "            (k_proj): Linear(in_features=768, out_features=768, bias=True)\n",
       "            (v_proj): Linear(in_features=768, out_features=768, bias=True)\n",
       "            (q_proj): Linear(in_features=768, out_features=768, bias=True)\n",
       "            (out_proj): Linear(in_features=768, out_features=768, bias=True)\n",
       "            (norm): OPTNormOutput()\n",
       "          )\n",
       "          (activation_fn): ReLU()\n",
       "          (self_attn_layer_norm): LayerNorm((768,), eps=1e-05, elementwise_affine=True)\n",
       "          (fc1): Linear(in_features=768, out_features=3072, bias=True)\n",
       "          (fc2): Linear(in_features=3072, out_features=768, bias=True)\n",
       "          (final_layer_norm): LayerNorm((768,), eps=1e-05, elementwise_affine=True)\n",
       "        )\n",
       "        (1): OPTDecoderLayer(\n",
       "          (self_attn): OPTAttention(\n",
       "            (k_proj): Linear(in_features=768, out_features=768, bias=True)\n",
       "            (v_proj): Linear(in_features=768, out_features=768, bias=True)\n",
       "            (q_proj): Linear(in_features=768, out_features=768, bias=True)\n",
       "            (out_proj): Linear(in_features=768, out_features=768, bias=True)\n",
       "            (norm): OPTNormOutput()\n",
       "          )\n",
       "          (activation_fn): ReLU()\n",
       "          (self_attn_layer_norm): LayerNorm((768,), eps=1e-05, elementwise_affine=True)\n",
       "          (fc1): Linear(in_features=768, out_features=3072, bias=True)\n",
       "          (fc2): Linear(in_features=3072, out_features=768, bias=True)\n",
       "          (final_layer_norm): LayerNorm((768,), eps=1e-05, elementwise_affine=True)\n",
       "        )\n",
       "        (2): OPTDecoderLayer(\n",
       "          (self_attn): OPTAttention(\n",
       "            (k_proj): Linear(in_features=768, out_features=768, bias=True)\n",
       "            (v_proj): Linear(in_features=768, out_features=768, bias=True)\n",
       "            (q_proj): Linear(in_features=768, out_features=768, bias=True)\n",
       "            (out_proj): Linear(in_features=768, out_features=768, bias=True)\n",
       "            (norm): OPTNormOutput()\n",
       "          )\n",
       "          (activation_fn): ReLU()\n",
       "          (self_attn_layer_norm): LayerNorm((768,), eps=1e-05, elementwise_affine=True)\n",
       "          (fc1): Linear(in_features=768, out_features=3072, bias=True)\n",
       "          (fc2): Linear(in_features=3072, out_features=768, bias=True)\n",
       "          (final_layer_norm): LayerNorm((768,), eps=1e-05, elementwise_affine=True)\n",
       "        )\n",
       "        (3): OPTDecoderLayer(\n",
       "          (self_attn): OPTAttention(\n",
       "            (k_proj): Linear(in_features=768, out_features=768, bias=True)\n",
       "            (v_proj): Linear(in_features=768, out_features=768, bias=True)\n",
       "            (q_proj): Linear(in_features=768, out_features=768, bias=True)\n",
       "            (out_proj): Linear(in_features=768, out_features=768, bias=True)\n",
       "            (norm): OPTNormOutput()\n",
       "          )\n",
       "          (activation_fn): ReLU()\n",
       "          (self_attn_layer_norm): LayerNorm((768,), eps=1e-05, elementwise_affine=True)\n",
       "          (fc1): Linear(in_features=768, out_features=3072, bias=True)\n",
       "          (fc2): Linear(in_features=3072, out_features=768, bias=True)\n",
       "          (final_layer_norm): LayerNorm((768,), eps=1e-05, elementwise_affine=True)\n",
       "        )\n",
       "        (4): OPTDecoderLayer(\n",
       "          (self_attn): OPTAttention(\n",
       "            (k_proj): Linear(in_features=768, out_features=768, bias=True)\n",
       "            (v_proj): Linear(in_features=768, out_features=768, bias=True)\n",
       "            (q_proj): Linear(in_features=768, out_features=768, bias=True)\n",
       "            (out_proj): Linear(in_features=768, out_features=768, bias=True)\n",
       "            (norm): OPTNormOutput()\n",
       "          )\n",
       "          (activation_fn): ReLU()\n",
       "          (self_attn_layer_norm): LayerNorm((768,), eps=1e-05, elementwise_affine=True)\n",
       "          (fc1): Linear(in_features=768, out_features=3072, bias=True)\n",
       "          (fc2): Linear(in_features=3072, out_features=768, bias=True)\n",
       "          (final_layer_norm): LayerNorm((768,), eps=1e-05, elementwise_affine=True)\n",
       "        )\n",
       "        (5): OPTDecoderLayer(\n",
       "          (self_attn): OPTAttention(\n",
       "            (k_proj): Linear(in_features=768, out_features=768, bias=True)\n",
       "            (v_proj): Linear(in_features=768, out_features=768, bias=True)\n",
       "            (q_proj): Linear(in_features=768, out_features=768, bias=True)\n",
       "            (out_proj): Linear(in_features=768, out_features=768, bias=True)\n",
       "            (norm): OPTNormOutput()\n",
       "          )\n",
       "          (activation_fn): ReLU()\n",
       "          (self_attn_layer_norm): LayerNorm((768,), eps=1e-05, elementwise_affine=True)\n",
       "          (fc1): Linear(in_features=768, out_features=3072, bias=True)\n",
       "          (fc2): Linear(in_features=3072, out_features=768, bias=True)\n",
       "          (final_layer_norm): LayerNorm((768,), eps=1e-05, elementwise_affine=True)\n",
       "        )\n",
       "        (6): OPTDecoderLayer(\n",
       "          (self_attn): OPTAttention(\n",
       "            (k_proj): Linear(in_features=768, out_features=768, bias=True)\n",
       "            (v_proj): Linear(in_features=768, out_features=768, bias=True)\n",
       "            (q_proj): Linear(in_features=768, out_features=768, bias=True)\n",
       "            (out_proj): Linear(in_features=768, out_features=768, bias=True)\n",
       "            (norm): OPTNormOutput()\n",
       "          )\n",
       "          (activation_fn): ReLU()\n",
       "          (self_attn_layer_norm): LayerNorm((768,), eps=1e-05, elementwise_affine=True)\n",
       "          (fc1): Linear(in_features=768, out_features=3072, bias=True)\n",
       "          (fc2): Linear(in_features=3072, out_features=768, bias=True)\n",
       "          (final_layer_norm): LayerNorm((768,), eps=1e-05, elementwise_affine=True)\n",
       "        )\n",
       "        (7): OPTDecoderLayer(\n",
       "          (self_attn): OPTAttention(\n",
       "            (k_proj): Linear(in_features=768, out_features=768, bias=True)\n",
       "            (v_proj): Linear(in_features=768, out_features=768, bias=True)\n",
       "            (q_proj): Linear(in_features=768, out_features=768, bias=True)\n",
       "            (out_proj): Linear(in_features=768, out_features=768, bias=True)\n",
       "            (norm): OPTNormOutput()\n",
       "          )\n",
       "          (activation_fn): ReLU()\n",
       "          (self_attn_layer_norm): LayerNorm((768,), eps=1e-05, elementwise_affine=True)\n",
       "          (fc1): Linear(in_features=768, out_features=3072, bias=True)\n",
       "          (fc2): Linear(in_features=3072, out_features=768, bias=True)\n",
       "          (final_layer_norm): LayerNorm((768,), eps=1e-05, elementwise_affine=True)\n",
       "        )\n",
       "        (8): OPTDecoderLayer(\n",
       "          (self_attn): OPTAttention(\n",
       "            (k_proj): Linear(in_features=768, out_features=768, bias=True)\n",
       "            (v_proj): Linear(in_features=768, out_features=768, bias=True)\n",
       "            (q_proj): Linear(in_features=768, out_features=768, bias=True)\n",
       "            (out_proj): Linear(in_features=768, out_features=768, bias=True)\n",
       "            (norm): OPTNormOutput()\n",
       "          )\n",
       "          (activation_fn): ReLU()\n",
       "          (self_attn_layer_norm): LayerNorm((768,), eps=1e-05, elementwise_affine=True)\n",
       "          (fc1): Linear(in_features=768, out_features=3072, bias=True)\n",
       "          (fc2): Linear(in_features=3072, out_features=768, bias=True)\n",
       "          (final_layer_norm): LayerNorm((768,), eps=1e-05, elementwise_affine=True)\n",
       "        )\n",
       "        (9): OPTDecoderLayer(\n",
       "          (self_attn): OPTAttention(\n",
       "            (k_proj): Linear(in_features=768, out_features=768, bias=True)\n",
       "            (v_proj): Linear(in_features=768, out_features=768, bias=True)\n",
       "            (q_proj): Linear(in_features=768, out_features=768, bias=True)\n",
       "            (out_proj): Linear(in_features=768, out_features=768, bias=True)\n",
       "            (norm): OPTNormOutput()\n",
       "          )\n",
       "          (activation_fn): ReLU()\n",
       "          (self_attn_layer_norm): LayerNorm((768,), eps=1e-05, elementwise_affine=True)\n",
       "          (fc1): Linear(in_features=768, out_features=3072, bias=True)\n",
       "          (fc2): Linear(in_features=3072, out_features=768, bias=True)\n",
       "          (final_layer_norm): LayerNorm((768,), eps=1e-05, elementwise_affine=True)\n",
       "        )\n",
       "        (10): OPTDecoderLayer(\n",
       "          (self_attn): OPTAttention(\n",
       "            (k_proj): Linear(in_features=768, out_features=768, bias=True)\n",
       "            (v_proj): Linear(in_features=768, out_features=768, bias=True)\n",
       "            (q_proj): Linear(in_features=768, out_features=768, bias=True)\n",
       "            (out_proj): Linear(in_features=768, out_features=768, bias=True)\n",
       "            (norm): OPTNormOutput()\n",
       "          )\n",
       "          (activation_fn): ReLU()\n",
       "          (self_attn_layer_norm): LayerNorm((768,), eps=1e-05, elementwise_affine=True)\n",
       "          (fc1): Linear(in_features=768, out_features=3072, bias=True)\n",
       "          (fc2): Linear(in_features=3072, out_features=768, bias=True)\n",
       "          (final_layer_norm): LayerNorm((768,), eps=1e-05, elementwise_affine=True)\n",
       "        )\n",
       "        (11): OPTDecoderLayer(\n",
       "          (self_attn): OPTAttention(\n",
       "            (k_proj): Linear(in_features=768, out_features=768, bias=True)\n",
       "            (v_proj): Linear(in_features=768, out_features=768, bias=True)\n",
       "            (q_proj): Linear(in_features=768, out_features=768, bias=True)\n",
       "            (out_proj): Linear(in_features=768, out_features=768, bias=True)\n",
       "            (norm): OPTNormOutput()\n",
       "          )\n",
       "          (activation_fn): ReLU()\n",
       "          (self_attn_layer_norm): LayerNorm((768,), eps=1e-05, elementwise_affine=True)\n",
       "          (fc1): Linear(in_features=768, out_features=3072, bias=True)\n",
       "          (fc2): Linear(in_features=3072, out_features=768, bias=True)\n",
       "          (final_layer_norm): LayerNorm((768,), eps=1e-05, elementwise_affine=True)\n",
       "        )\n",
       "      )\n",
       "    )\n",
       "  )\n",
       "  (lm_head): Linear(in_features=768, out_features=50272, bias=False)\n",
       ")"
      ]
     },
     "execution_count": 2,
     "metadata": {},
     "output_type": "execute_result"
    }
   ],
   "source": [
    "tokenizer = GPT2Tokenizer.from_pretrained(\"facebook/opt-125m\")\n",
    "model = OPTForCausalLM.from_pretrained(\"facebook/opt-125m\")\n",
    "model.eval()"
   ]
  },
  {
   "cell_type": "code",
   "execution_count": 3,
   "metadata": {},
   "outputs": [],
   "source": [
    "prompt = \"Here is some text to encode\"\n",
    "inputs = tokenizer(prompt, return_tensors=\"pt\").to(device)"
   ]
  },
  {
   "cell_type": "code",
   "execution_count": 4,
   "metadata": {},
   "outputs": [
    {
     "name": "stdout",
     "output_type": "stream",
     "text": [
      "4\n",
      "1\n",
      "4\n",
      "2\n",
      "4\n",
      "3\n",
      "4\n",
      "4\n",
      "4\n",
      "5\n",
      "4\n",
      "6\n",
      "4\n",
      "7\n",
      "4\n",
      "8\n",
      "4\n",
      "9\n",
      "4\n",
      "10\n",
      "4\n",
      "11\n",
      "4\n",
      "12\n"
     ]
    }
   ],
   "source": [
    "outputs = model(**inputs, output_attentions=True, output_norms=True)"
   ]
  },
  {
   "cell_type": "code",
   "execution_count": null,
   "metadata": {},
   "outputs": [],
   "source": []
  },
  {
   "cell_type": "code",
   "execution_count": 5,
   "metadata": {},
   "outputs": [
    {
     "data": {
      "text/plain": [
       "4"
      ]
     },
     "execution_count": 5,
     "metadata": {},
     "output_type": "execute_result"
    }
   ],
   "source": [
    "len(outputs)"
   ]
  },
  {
   "cell_type": "code",
   "execution_count": 6,
   "metadata": {},
   "outputs": [
    {
     "data": {
      "text/plain": [
       "12"
      ]
     },
     "execution_count": 6,
     "metadata": {},
     "output_type": "execute_result"
    }
   ],
   "source": [
    "len(outputs.norm_attentions)"
   ]
  },
  {
   "cell_type": "code",
   "execution_count": 7,
   "metadata": {},
   "outputs": [],
   "source": [
    "attentions = outputs.attentions\n",
    "norms = outputs.norm_attentions"
   ]
  },
  {
   "cell_type": "code",
   "execution_count": 8,
   "metadata": {},
   "outputs": [
    {
     "name": "stdout",
     "output_type": "stream",
     "text": [
      "<class 'tuple'>\n",
      "12\n"
     ]
    }
   ],
   "source": [
    "# Returned variable \"norms\" is a tuple which has 12 elements (equal to the number of layers).\n",
    "print(type(norms))\n",
    "print(len(norms))"
   ]
  },
  {
   "cell_type": "code",
   "execution_count": 9,
   "metadata": {},
   "outputs": [
    {
     "name": "stdout",
     "output_type": "stream",
     "text": [
      "<class 'tuple'>\n",
      "3\n"
     ]
    }
   ],
   "source": [
    "# Each element is a tuple which consists of 3 elements: ||f(x)||, ||αf(x)||, and ||Σαf(x)||.\n",
    "layer = 5\n",
    "print(type(norms[layer-1]))\n",
    "print(len(norms[layer-1]))\n",
    "\n",
    "fx_norm, afx_norm, summed_afx_norm = norms[layer-1]"
   ]
  },
  {
   "cell_type": "code",
   "execution_count": 12,
   "metadata": {},
   "outputs": [
    {
     "name": "stdout",
     "output_type": "stream",
     "text": [
      "shape of ||f(x)||: torch.Size([1, 12, 7])\n"
     ]
    }
   ],
   "source": [
    "# shape of fx_norm (||f(x)||) is (batch, num_heads, seq_length)\n",
    "print(\"shape of ||f(x)||:\", fx_norm.size())"
   ]
  },
  {
   "cell_type": "code",
   "execution_count": 13,
   "metadata": {},
   "outputs": [
    {
     "name": "stdout",
     "output_type": "stream",
     "text": [
      "shape of ||αf(x)||: torch.Size([1, 12, 7, 7])\n"
     ]
    }
   ],
   "source": [
    "# shape of afx_norm (||αf(x)||) is (batch, num_heads, seq_length, seq_length)\n",
    "print(\"shape of ||αf(x)||:\", afx_norm.size())"
   ]
  },
  {
   "cell_type": "code",
   "execution_count": 14,
   "metadata": {},
   "outputs": [
    {
     "name": "stdout",
     "output_type": "stream",
     "text": [
      "shape of ||Σαf(x)||: torch.Size([1, 7, 7])\n"
     ]
    }
   ],
   "source": [
    "# shape of summed_afx_norm (||Σαf(x)||) is (batch, seq_length, seq_length)\n",
    "print(\"shape of ||Σαf(x)||:\", summed_afx_norm.size())"
   ]
  },
  {
   "cell_type": "code",
   "execution_count": 10,
   "metadata": {},
   "outputs": [],
   "source": [
    "import seaborn as sns\n",
    "import pandas as pd\n",
    "import numpy as np\n",
    "import matplotlib.pyplot as plt\n",
    "\n",
    "# Set the layer and head you want to check. (layer: 1~12, head: 1~12)\n",
    "layer = 7\n",
    "head = 5"
   ]
  },
  {
   "cell_type": "code",
   "execution_count": 21,
   "metadata": {},
   "outputs": [
    {
     "name": "stdout",
     "output_type": "stream",
     "text": [
      "tensor([[    2, 11773,    16,   103,  2788,     7, 46855]])\n",
      "['</s>', 'Here', 'Ġis', 'Ġsome', 'Ġtext', 'Ġto', 'Ġencode']\n"
     ]
    }
   ],
   "source": [
    "# Tokenize text and convert to ids.\n",
    "input_ids = torch.tensor([tokenizer.encode(\"Here is some text to encode\", add_special_tokens=True)]).to(device)\n",
    "print(input_ids)\n",
    "tokenized_text = tokenizer.convert_ids_to_tokens(input_ids[0])\n",
    "print(tokenized_text)"
   ]
  },
  {
   "cell_type": "markdown",
   "metadata": {},
   "source": [
    "### OPT Attention weight visualization (Head-level visualization)"
   ]
  },
  {
   "cell_type": "code",
   "execution_count": 24,
   "metadata": {},
   "outputs": [
    {
     "data": {
      "image/png": "[encoded data removed]",
      "text/plain": [
       "<Figure size 640x480 with 2 Axes>"
      ]
     },
     "metadata": {},
     "output_type": "display_data"
    }
   ],
   "source": [
    "plt.figure() \n",
    "attention = attentions[layer-1][0][head-1].detach().numpy()\n",
    "df = pd.DataFrame(attention,columns=tokenized_text,index=tokenized_text)\n",
    "sns.heatmap(df,cmap=\"Reds\",square=True)\n",
    "plt.gcf().subplots_adjust(bottom=0.2)"
   ]
  },
  {
   "cell_type": "markdown",
   "metadata": {},
   "source": [
    "### OPT Norm of the weighted vectors (||αf(x)||) visualization (Head-level visualization)"
   ]
  },
  {
   "cell_type": "code",
   "execution_count": 27,
   "metadata": {},
   "outputs": [
    {
     "data": {
      "image/png": "[encoded data removed]",
      "text/plain": [
       "<Figure size 640x480 with 2 Axes>"
      ]
     },
     "metadata": {},
     "output_type": "display_data"
    }
   ],
   "source": [
    "plt.figure() \n",
    "afx_norm = norms[layer-1][1]\n",
    "norm = afx_norm[0][head-1].cpu().numpy()\n",
    "df = pd.DataFrame(norm,columns=tokenized_text,index=tokenized_text)\n",
    "sns.heatmap(df,cmap=\"Reds\",square=True)\n",
    "plt.gcf().subplots_adjust(bottom=0.2)"
   ]
  },
  {
   "cell_type": "markdown",
   "metadata": {},
   "source": [
    "### 2a OPT Attention weight visualization (Layer-level visualization)"
   ]
  },
  {
   "cell_type": "code",
   "execution_count": 29,
   "metadata": {},
   "outputs": [
    {
     "data": {
      "image/png": "[encoded data removed]",
      "text/plain": [
       "<Figure size 640x480 with 2 Axes>"
      ]
     },
     "metadata": {},
     "output_type": "display_data"
    }
   ],
   "source": [
    "plt.figure() \n",
    "attention = attentions[layer-1][0].mean(0).detach().numpy()\n",
    "df = pd.DataFrame(attention,columns=tokenized_text,index=tokenized_text)\n",
    "sns.heatmap(df,cmap=\"Reds\",square=True)\n",
    "plt.gcf().subplots_adjust(bottom=0.2)"
   ]
  },
  {
   "cell_type": "code",
   "execution_count": null,
   "metadata": {},
   "outputs": [],
   "source": []
  }
 ],
 "metadata": {
  "kernelspec": {
   "display_name": "venv-norm",
   "language": "python",
   "name": "venv-norm"
  },
  "language_info": {
   "codemirror_mode": {
    "name": "ipython",
    "version": 3
   },
   "file_extension": ".py",
   "mimetype": "text/x-python",
   "name": "python",
   "nbconvert_exporter": "python",
   "pygments_lexer": "ipython3",
   "version": "3.8.5"
  }
 },
 "nbformat": 4,
 "nbformat_minor": 4
}
